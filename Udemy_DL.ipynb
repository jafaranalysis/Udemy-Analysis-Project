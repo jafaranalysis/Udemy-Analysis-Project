{
 "cells": [
  {
   "cell_type": "markdown",
   "id": "c8682cff-1475-4625-96bb-58663d87ba5b",
   "metadata": {},
   "source": [
    "# Udemy Courses Data Analysis\n",
    "\n",
    "# This project analyzes Udemy online course data to uncover trends in pricing, subscriber count, course content, and subject categories. It # serves as a full data analysis project to demonstrate skills in data cleaning, visualization, and insight generation.\n",
    "\n",
    "# Main Objectives:\n",
    "\n",
    "### Understand course trends by subject, level, price, and popularity\n",
    "### Explore relationships between reviews, lectures, and subscribers\n",
    "### Apply data cleaning and exploratory data analysis techniques\n",
    "### Tools Used: Python, Pandas, NumPy, Seaborn, Matplotlib\n",
    "\n"
   ]
  },
  {
   "cell_type": "code",
   "execution_count": 1,
   "id": "00524bc3-ea03-44cf-b35d-1aa3f4810c1f",
   "metadata": {},
   "outputs": [],
   "source": [
    "import pandas as pd\n",
    "import seaborn as sns\n",
    "import matplotlib.pyplot as plt \n",
    "import numpy as np"
   ]
  },
  {
   "cell_type": "code",
   "execution_count": 2,
   "id": "375d7f91-1437-48ba-84e6-37e6d64a97f0",
   "metadata": {},
   "outputs": [],
   "source": [
    "df=pd.read_csv('udemy_courses_clean.csv')"
   ]
  },
  {
   "cell_type": "code",
   "execution_count": 3,
   "id": "0817d19c-9c64-4701-9626-5c02d7597470",
   "metadata": {},
   "outputs": [
    {
     "data": {
      "text/html": [
       "<div>\n",
       "<style scoped>\n",
       "    .dataframe tbody tr th:only-of-type {\n",
       "        vertical-align: middle;\n",
       "    }\n",
       "\n",
       "    .dataframe tbody tr th {\n",
       "        vertical-align: top;\n",
       "    }\n",
       "\n",
       "    .dataframe thead th {\n",
       "        text-align: right;\n",
       "    }\n",
       "</style>\n",
       "<table border=\"1\" class=\"dataframe\">\n",
       "  <thead>\n",
       "    <tr style=\"text-align: right;\">\n",
       "      <th></th>\n",
       "      <th>Unnamed: 0</th>\n",
       "      <th>course_id</th>\n",
       "      <th>course_title</th>\n",
       "      <th>url</th>\n",
       "      <th>is_paid</th>\n",
       "      <th>price</th>\n",
       "      <th>num_subscribers</th>\n",
       "      <th>num_reviews</th>\n",
       "      <th>num_lectures</th>\n",
       "      <th>level</th>\n",
       "      <th>content_duration</th>\n",
       "      <th>published_timestamp</th>\n",
       "      <th>subject</th>\n",
       "      <th>clean_course_title</th>\n",
       "    </tr>\n",
       "  </thead>\n",
       "  <tbody>\n",
       "    <tr>\n",
       "      <th>3678</th>\n",
       "      <td>3678</td>\n",
       "      <td>775618</td>\n",
       "      <td>Learn jQuery from Scratch - Master of JavaScri...</td>\n",
       "      <td>https://www.udemy.com/easy-jquery-for-beginner...</td>\n",
       "      <td>True</td>\n",
       "      <td>100</td>\n",
       "      <td>1040</td>\n",
       "      <td>14</td>\n",
       "      <td>21</td>\n",
       "      <td>All Levels</td>\n",
       "      <td>2 hours</td>\n",
       "      <td>2016-06-14T17:36:46Z</td>\n",
       "      <td>Web Development</td>\n",
       "      <td>Learn jQuery Scratch  Master JavaScript library</td>\n",
       "    </tr>\n",
       "    <tr>\n",
       "      <th>3679</th>\n",
       "      <td>3679</td>\n",
       "      <td>1088178</td>\n",
       "      <td>How To Design A WordPress Website With No Codi...</td>\n",
       "      <td>https://www.udemy.com/how-to-make-a-wordpress-...</td>\n",
       "      <td>True</td>\n",
       "      <td>25</td>\n",
       "      <td>306</td>\n",
       "      <td>3</td>\n",
       "      <td>42</td>\n",
       "      <td>Beginner Level</td>\n",
       "      <td>3.5 hours</td>\n",
       "      <td>2017-03-10T22:24:30Z</td>\n",
       "      <td>Web Development</td>\n",
       "      <td>Design WordPress Website Coding</td>\n",
       "    </tr>\n",
       "    <tr>\n",
       "      <th>3680</th>\n",
       "      <td>3680</td>\n",
       "      <td>635248</td>\n",
       "      <td>Learn and Build using Polymer</td>\n",
       "      <td>https://www.udemy.com/learn-and-build-using-po...</td>\n",
       "      <td>True</td>\n",
       "      <td>40</td>\n",
       "      <td>513</td>\n",
       "      <td>169</td>\n",
       "      <td>48</td>\n",
       "      <td>All Levels</td>\n",
       "      <td>3.5 hours</td>\n",
       "      <td>2015-12-30T16:41:42Z</td>\n",
       "      <td>Web Development</td>\n",
       "      <td>Learn Build Polymer</td>\n",
       "    </tr>\n",
       "    <tr>\n",
       "      <th>3681</th>\n",
       "      <td>3681</td>\n",
       "      <td>905096</td>\n",
       "      <td>CSS Animations: Create Amazing Effects on Your...</td>\n",
       "      <td>https://www.udemy.com/css-animations-create-am...</td>\n",
       "      <td>True</td>\n",
       "      <td>50</td>\n",
       "      <td>300</td>\n",
       "      <td>31</td>\n",
       "      <td>38</td>\n",
       "      <td>All Levels</td>\n",
       "      <td>3 hours</td>\n",
       "      <td>2016-08-11T19:06:15Z</td>\n",
       "      <td>Web Development</td>\n",
       "      <td>CSS Animations Create Amazing Effects Website</td>\n",
       "    </tr>\n",
       "    <tr>\n",
       "      <th>3682</th>\n",
       "      <td>3682</td>\n",
       "      <td>297602</td>\n",
       "      <td>Using MODX CMS to Build Websites: A Beginner's...</td>\n",
       "      <td>https://www.udemy.com/using-modx-cms-to-build-...</td>\n",
       "      <td>True</td>\n",
       "      <td>45</td>\n",
       "      <td>901</td>\n",
       "      <td>36</td>\n",
       "      <td>20</td>\n",
       "      <td>Beginner Level</td>\n",
       "      <td>2 hours</td>\n",
       "      <td>2014-09-28T19:51:11Z</td>\n",
       "      <td>Web Development</td>\n",
       "      <td>MODX CMS Build Websites Beginners Guide</td>\n",
       "    </tr>\n",
       "  </tbody>\n",
       "</table>\n",
       "</div>"
      ],
      "text/plain": [
       "      Unnamed: 0  course_id  \\\n",
       "3678        3678     775618   \n",
       "3679        3679    1088178   \n",
       "3680        3680     635248   \n",
       "3681        3681     905096   \n",
       "3682        3682     297602   \n",
       "\n",
       "                                           course_title  \\\n",
       "3678  Learn jQuery from Scratch - Master of JavaScri...   \n",
       "3679  How To Design A WordPress Website With No Codi...   \n",
       "3680                      Learn and Build using Polymer   \n",
       "3681  CSS Animations: Create Amazing Effects on Your...   \n",
       "3682  Using MODX CMS to Build Websites: A Beginner's...   \n",
       "\n",
       "                                                    url is_paid price  \\\n",
       "3678  https://www.udemy.com/easy-jquery-for-beginner...    True   100   \n",
       "3679  https://www.udemy.com/how-to-make-a-wordpress-...    True    25   \n",
       "3680  https://www.udemy.com/learn-and-build-using-po...    True    40   \n",
       "3681  https://www.udemy.com/css-animations-create-am...    True    50   \n",
       "3682  https://www.udemy.com/using-modx-cms-to-build-...    True    45   \n",
       "\n",
       "      num_subscribers  num_reviews  num_lectures           level  \\\n",
       "3678             1040           14            21      All Levels   \n",
       "3679              306            3            42  Beginner Level   \n",
       "3680              513          169            48      All Levels   \n",
       "3681              300           31            38      All Levels   \n",
       "3682              901           36            20  Beginner Level   \n",
       "\n",
       "     content_duration   published_timestamp          subject  \\\n",
       "3678          2 hours  2016-06-14T17:36:46Z  Web Development   \n",
       "3679        3.5 hours  2017-03-10T22:24:30Z  Web Development   \n",
       "3680        3.5 hours  2015-12-30T16:41:42Z  Web Development   \n",
       "3681          3 hours  2016-08-11T19:06:15Z  Web Development   \n",
       "3682          2 hours  2014-09-28T19:51:11Z  Web Development   \n",
       "\n",
       "                                   clean_course_title  \n",
       "3678  Learn jQuery Scratch  Master JavaScript library  \n",
       "3679                  Design WordPress Website Coding  \n",
       "3680                              Learn Build Polymer  \n",
       "3681    CSS Animations Create Amazing Effects Website  \n",
       "3682          MODX CMS Build Websites Beginners Guide  "
      ]
     },
     "execution_count": 3,
     "metadata": {},
     "output_type": "execute_result"
    }
   ],
   "source": [
    "df.tail()"
   ]
  },
  {
   "cell_type": "code",
   "execution_count": 4,
   "id": "23056afc-9cad-4bed-8aaf-d3abdd58bdff",
   "metadata": {},
   "outputs": [
    {
     "name": "stdout",
     "output_type": "stream",
     "text": [
      "<class 'pandas.core.frame.DataFrame'>\n",
      "RangeIndex: 3683 entries, 0 to 3682\n",
      "Data columns (total 14 columns):\n",
      " #   Column               Non-Null Count  Dtype \n",
      "---  ------               --------------  ----- \n",
      " 0   Unnamed: 0           3683 non-null   int64 \n",
      " 1   course_id            3683 non-null   int64 \n",
      " 2   course_title         3683 non-null   object\n",
      " 3   url                  3683 non-null   object\n",
      " 4   is_paid              3683 non-null   object\n",
      " 5   price                3683 non-null   object\n",
      " 6   num_subscribers      3683 non-null   int64 \n",
      " 7   num_reviews          3683 non-null   int64 \n",
      " 8   num_lectures         3683 non-null   int64 \n",
      " 9   level                3683 non-null   object\n",
      " 10  content_duration     3683 non-null   object\n",
      " 11  published_timestamp  3683 non-null   object\n",
      " 12  subject              3683 non-null   object\n",
      " 13  clean_course_title   3663 non-null   object\n",
      "dtypes: int64(5), object(9)\n",
      "memory usage: 403.0+ KB\n"
     ]
    }
   ],
   "source": [
    "df.info()"
   ]
  },
  {
   "cell_type": "code",
   "execution_count": 5,
   "id": "a94d91ee-12f7-4190-8870-d35266687014",
   "metadata": {},
   "outputs": [
    {
     "data": {
      "text/plain": [
       "Unnamed: 0              0\n",
       "course_id               0\n",
       "course_title            0\n",
       "url                     0\n",
       "is_paid                 0\n",
       "price                   0\n",
       "num_subscribers         0\n",
       "num_reviews             0\n",
       "num_lectures            0\n",
       "level                   0\n",
       "content_duration        0\n",
       "published_timestamp     0\n",
       "subject                 0\n",
       "clean_course_title     20\n",
       "dtype: int64"
      ]
     },
     "execution_count": 5,
     "metadata": {},
     "output_type": "execute_result"
    }
   ],
   "source": [
    "df.isnull().sum()"
   ]
  },
  {
   "cell_type": "code",
   "execution_count": 6,
   "id": "5e9358f9-08ed-4fcf-a2a3-21c4743bd46d",
   "metadata": {},
   "outputs": [
    {
     "data": {
      "text/plain": [
       "np.int64(0)"
      ]
     },
     "execution_count": 6,
     "metadata": {},
     "output_type": "execute_result"
    }
   ],
   "source": [
    "df.duplicated().sum()"
   ]
  },
  {
   "cell_type": "markdown",
   "id": "b8a7d2f8-f9f0-44b6-aa18-12b2dba05d32",
   "metadata": {},
   "source": []
  },
  {
   "cell_type": "markdown",
   "id": "e360b182-de34-4ff3-8e2c-96a77a36efc2",
   "metadata": {},
   "source": [
    "# subject"
   ]
  },
  {
   "cell_type": "code",
   "execution_count": 7,
   "id": "a6360e26-4bef-43a0-b760-7807297edf6c",
   "metadata": {},
   "outputs": [
    {
     "data": {
      "text/plain": [
       "subject\n",
       "Web Development        1200\n",
       "Business Finance       1199\n",
       "Musical Instruments     681\n",
       "Graphic Design          603\n",
       "Name: count, dtype: int64"
      ]
     },
     "execution_count": 7,
     "metadata": {},
     "output_type": "execute_result"
    }
   ],
   "source": [
    "df['subject'].value_counts()"
   ]
  },
  {
   "cell_type": "code",
   "execution_count": 8,
   "id": "067aeef2-01db-4a0b-aaa1-137d1afbe5c2",
   "metadata": {},
   "outputs": [
    {
     "data": {
      "text/plain": [
       "4"
      ]
     },
     "execution_count": 8,
     "metadata": {},
     "output_type": "execute_result"
    }
   ],
   "source": [
    "len(df['subject'].unique())"
   ]
  },
  {
   "cell_type": "code",
   "execution_count": 9,
   "id": "81220e25-eb72-4bc7-abae-48edf50b3e1e",
   "metadata": {},
   "outputs": [
    {
     "data": {
      "image/png": "[encoded data removed]",
      "text/plain": [
       "<Figure size 640x480 with 1 Axes>"
      ]
     },
     "metadata": {},
     "output_type": "display_data"
    }
   ],
   "source": [
    "df['subject'].value_counts().plot(kind='bar')\n",
    "plt.xticks(rotation=50)\n",
    "plt.yticks(rotation=45)\n",
    "plt.title('Value_counts')\n",
    "plt.show()"
   ]
  },
  {
   "cell_type": "code",
   "execution_count": 10,
   "id": "6c45ae58-c6a1-4a18-b6aa-dc7dc217a8d8",
   "metadata": {},
   "outputs": [
    {
     "data": {
      "image/png": "[encoded data removed]",
      "text/plain": [
       "<Figure size 800x800 with 1 Axes>"
      ]
     },
     "metadata": {},
     "output_type": "display_data"
    }
   ],
   "source": [
    "plt.figure(figsize=(8,8))\n",
    "sns.countplot(x=df['subject'],data=df)\n",
    "plt.show()"
   ]
  },
  {
   "cell_type": "markdown",
   "id": "8eeb0287-6877-4cf0-b53a-c2b49ff6e215",
   "metadata": {},
   "source": [
    "# num_subscribers"
   ]
  },
  {
   "cell_type": "code",
   "execution_count": 11,
   "id": "0db5e501-30c3-4e28-b396-704f34f56a2d",
   "metadata": {},
   "outputs": [
    {
     "data": {
      "text/plain": [
       "subject\n",
       "Business Finance       1870747\n",
       "Graphic Design         1063148\n",
       "Musical Instruments     846719\n",
       "Web Development        7980572\n",
       "Name: num_subscribers, dtype: int64"
      ]
     },
     "execution_count": 11,
     "metadata": {},
     "output_type": "execute_result"
    }
   ],
   "source": [
    "df.groupby('subject')['num_subscribers'].sum()"
   ]
  },
  {
   "cell_type": "code",
   "execution_count": 12,
   "id": "350be389-16cf-46cb-bd3e-7b44dd1b2dda",
   "metadata": {},
   "outputs": [
    {
     "data": {
      "text/plain": [
       "np.float64(3193.3711648112953)"
      ]
     },
     "execution_count": 12,
     "metadata": {},
     "output_type": "execute_result"
    }
   ],
   "source": [
    "df.num_subscribers.mean()"
   ]
  },
  {
   "cell_type": "code",
   "execution_count": 13,
   "id": "8caa18d7-8af9-4a98-a71e-6d2e0df3570b",
   "metadata": {},
   "outputs": [
    {
     "data": {
      "text/plain": [
       "np.int64(268923)"
      ]
     },
     "execution_count": 13,
     "metadata": {},
     "output_type": "execute_result"
    }
   ],
   "source": [
    "df.num_subscribers.max()"
   ]
  },
  {
   "cell_type": "code",
   "execution_count": 14,
   "id": "0dd87b83-c325-4a23-b202-7ee8ef76d1a1",
   "metadata": {},
   "outputs": [
    {
     "data": {
      "text/plain": [
       "np.int64(0)"
      ]
     },
     "execution_count": 14,
     "metadata": {},
     "output_type": "execute_result"
    }
   ],
   "source": [
    "df.num_subscribers.min()"
   ]
  },
  {
   "cell_type": "code",
   "execution_count": 15,
   "id": "2e9e358c-e82b-40a6-8c8e-d85494a540a5",
   "metadata": {},
   "outputs": [
    {
     "data": {
      "text/plain": [
       "np.int64(11761186)"
      ]
     },
     "execution_count": 15,
     "metadata": {},
     "output_type": "execute_result"
    }
   ],
   "source": [
    "df.num_subscribers.sum()"
   ]
  },
  {
   "cell_type": "code",
   "execution_count": 16,
   "id": "ba8aae7f-65f6-460a-9762-4b88c7bb3b81",
   "metadata": {},
   "outputs": [],
   "source": [
    "# which course has the max subscribers"
   ]
  },
  {
   "cell_type": "code",
   "execution_count": 17,
   "id": "9037993b-894c-4aef-a7fa-ce6ff8139821",
   "metadata": {},
   "outputs": [
    {
     "data": {
      "text/plain": [
       "2832"
      ]
     },
     "execution_count": 17,
     "metadata": {},
     "output_type": "execute_result"
    }
   ],
   "source": [
    "df.num_subscribers.idxmax()"
   ]
  },
  {
   "cell_type": "code",
   "execution_count": 18,
   "id": "6028dfb8-ab76-4005-9083-3d63abd861cf",
   "metadata": {},
   "outputs": [],
   "source": [
    "# get the location "
   ]
  },
  {
   "cell_type": "code",
   "execution_count": 19,
   "id": "8c8bcaa9-2958-4164-ae3b-eed17b72d8b1",
   "metadata": {},
   "outputs": [
    {
     "data": {
      "text/plain": [
       "Unnamed: 0                                                          2832\n",
       "course_id                                                          41295\n",
       "course_title                        Learn HTML5 Programming From Scratch\n",
       "url                    https://www.udemy.com/learn-html5-programming-...\n",
       "is_paid                                                            False\n",
       "price                                                               Free\n",
       "num_subscribers                                                   268923\n",
       "num_reviews                                                         8629\n",
       "num_lectures                                                          45\n",
       "level                                                         All Levels\n",
       "content_duration                                              10.5 hours\n",
       "published_timestamp                                 2013-02-14T07:03:41Z\n",
       "subject                                                  Web Development\n",
       "clean_course_title                       Learn HTML5 Programming Scratch\n",
       "Name: 2832, dtype: object"
      ]
     },
     "execution_count": 19,
     "metadata": {},
     "output_type": "execute_result"
    }
   ],
   "source": [
    "df.iloc[2832]"
   ]
  },
  {
   "cell_type": "markdown",
   "id": "c6ac2f82-8440-42a8-9c4d-bcc2c4eb50fd",
   "metadata": {},
   "source": [
    "# Level"
   ]
  },
  {
   "cell_type": "code",
   "execution_count": 20,
   "id": "67d9c40b-81cd-44fa-962c-383c6edc306d",
   "metadata": {},
   "outputs": [
    {
     "data": {
      "text/html": [
       "<div>\n",
       "<style scoped>\n",
       "    .dataframe tbody tr th:only-of-type {\n",
       "        vertical-align: middle;\n",
       "    }\n",
       "\n",
       "    .dataframe tbody tr th {\n",
       "        vertical-align: top;\n",
       "    }\n",
       "\n",
       "    .dataframe thead th {\n",
       "        text-align: right;\n",
       "    }\n",
       "</style>\n",
       "<table border=\"1\" class=\"dataframe\">\n",
       "  <thead>\n",
       "    <tr style=\"text-align: right;\">\n",
       "      <th></th>\n",
       "      <th>Unnamed: 0</th>\n",
       "      <th>course_id</th>\n",
       "      <th>course_title</th>\n",
       "      <th>url</th>\n",
       "      <th>is_paid</th>\n",
       "      <th>price</th>\n",
       "      <th>num_subscribers</th>\n",
       "      <th>num_reviews</th>\n",
       "      <th>num_lectures</th>\n",
       "      <th>level</th>\n",
       "      <th>content_duration</th>\n",
       "      <th>published_timestamp</th>\n",
       "      <th>subject</th>\n",
       "      <th>clean_course_title</th>\n",
       "    </tr>\n",
       "  </thead>\n",
       "  <tbody>\n",
       "    <tr>\n",
       "      <th>0</th>\n",
       "      <td>0</td>\n",
       "      <td>1070968</td>\n",
       "      <td>Ultimate Investment Banking Course</td>\n",
       "      <td>https://www.udemy.com/ultimate-investment-bank...</td>\n",
       "      <td>True</td>\n",
       "      <td>200</td>\n",
       "      <td>2147</td>\n",
       "      <td>23</td>\n",
       "      <td>51</td>\n",
       "      <td>All Levels</td>\n",
       "      <td>1.5 hours</td>\n",
       "      <td>2017-01-18T20:58:58Z</td>\n",
       "      <td>Business Finance</td>\n",
       "      <td>Ultimate Investment Banking Course</td>\n",
       "    </tr>\n",
       "    <tr>\n",
       "      <th>1</th>\n",
       "      <td>1</td>\n",
       "      <td>1113822</td>\n",
       "      <td>Complete GST Course &amp; Certification - Grow You...</td>\n",
       "      <td>https://www.udemy.com/goods-and-services-tax/</td>\n",
       "      <td>True</td>\n",
       "      <td>75</td>\n",
       "      <td>2792</td>\n",
       "      <td>923</td>\n",
       "      <td>274</td>\n",
       "      <td>All Levels</td>\n",
       "      <td>39 hours</td>\n",
       "      <td>2017-03-09T16:34:20Z</td>\n",
       "      <td>Business Finance</td>\n",
       "      <td>Complete GST Course  Certification  Grow Practice</td>\n",
       "    </tr>\n",
       "    <tr>\n",
       "      <th>2</th>\n",
       "      <td>2</td>\n",
       "      <td>1006314</td>\n",
       "      <td>Financial Modeling for Business Analysts and C...</td>\n",
       "      <td>https://www.udemy.com/financial-modeling-for-b...</td>\n",
       "      <td>True</td>\n",
       "      <td>45</td>\n",
       "      <td>2174</td>\n",
       "      <td>74</td>\n",
       "      <td>51</td>\n",
       "      <td>Intermediate Level</td>\n",
       "      <td>2.5 hours</td>\n",
       "      <td>2016-12-19T19:26:30Z</td>\n",
       "      <td>Business Finance</td>\n",
       "      <td>Financial Modeling Business Analysts Consultants</td>\n",
       "    </tr>\n",
       "    <tr>\n",
       "      <th>3</th>\n",
       "      <td>3</td>\n",
       "      <td>1210588</td>\n",
       "      <td>Beginner to Pro - Financial Analysis in Excel ...</td>\n",
       "      <td>https://www.udemy.com/complete-excel-finance-c...</td>\n",
       "      <td>True</td>\n",
       "      <td>95</td>\n",
       "      <td>2451</td>\n",
       "      <td>11</td>\n",
       "      <td>36</td>\n",
       "      <td>All Levels</td>\n",
       "      <td>3 hours</td>\n",
       "      <td>2017-05-30T20:07:24Z</td>\n",
       "      <td>Business Finance</td>\n",
       "      <td>Beginner Pro  Financial Analysis Excel 2017</td>\n",
       "    </tr>\n",
       "    <tr>\n",
       "      <th>4</th>\n",
       "      <td>4</td>\n",
       "      <td>1011058</td>\n",
       "      <td>How To Maximize Your Profits Trading Options</td>\n",
       "      <td>https://www.udemy.com/how-to-maximize-your-pro...</td>\n",
       "      <td>True</td>\n",
       "      <td>200</td>\n",
       "      <td>1276</td>\n",
       "      <td>45</td>\n",
       "      <td>26</td>\n",
       "      <td>Intermediate Level</td>\n",
       "      <td>2 hours</td>\n",
       "      <td>2016-12-13T14:57:18Z</td>\n",
       "      <td>Business Finance</td>\n",
       "      <td>Maximize Profits Trading Options</td>\n",
       "    </tr>\n",
       "  </tbody>\n",
       "</table>\n",
       "</div>"
      ],
      "text/plain": [
       "   Unnamed: 0  course_id                                       course_title  \\\n",
       "0           0    1070968                 Ultimate Investment Banking Course   \n",
       "1           1    1113822  Complete GST Course & Certification - Grow You...   \n",
       "2           2    1006314  Financial Modeling for Business Analysts and C...   \n",
       "3           3    1210588  Beginner to Pro - Financial Analysis in Excel ...   \n",
       "4           4    1011058       How To Maximize Your Profits Trading Options   \n",
       "\n",
       "                                                 url is_paid price  \\\n",
       "0  https://www.udemy.com/ultimate-investment-bank...    True   200   \n",
       "1      https://www.udemy.com/goods-and-services-tax/    True    75   \n",
       "2  https://www.udemy.com/financial-modeling-for-b...    True    45   \n",
       "3  https://www.udemy.com/complete-excel-finance-c...    True    95   \n",
       "4  https://www.udemy.com/how-to-maximize-your-pro...    True   200   \n",
       "\n",
       "   num_subscribers  num_reviews  num_lectures               level  \\\n",
       "0             2147           23            51          All Levels   \n",
       "1             2792          923           274          All Levels   \n",
       "2             2174           74            51  Intermediate Level   \n",
       "3             2451           11            36          All Levels   \n",
       "4             1276           45            26  Intermediate Level   \n",
       "\n",
       "  content_duration   published_timestamp           subject  \\\n",
       "0        1.5 hours  2017-01-18T20:58:58Z  Business Finance   \n",
       "1         39 hours  2017-03-09T16:34:20Z  Business Finance   \n",
       "2        2.5 hours  2016-12-19T19:26:30Z  Business Finance   \n",
       "3          3 hours  2017-05-30T20:07:24Z  Business Finance   \n",
       "4          2 hours  2016-12-13T14:57:18Z  Business Finance   \n",
       "\n",
       "                                  clean_course_title  \n",
       "0                 Ultimate Investment Banking Course  \n",
       "1  Complete GST Course  Certification  Grow Practice  \n",
       "2   Financial Modeling Business Analysts Consultants  \n",
       "3        Beginner Pro  Financial Analysis Excel 2017  \n",
       "4                   Maximize Profits Trading Options  "
      ]
     },
     "execution_count": 20,
     "metadata": {},
     "output_type": "execute_result"
    }
   ],
   "source": [
    "df.head()"
   ]
  },
  {
   "cell_type": "code",
   "execution_count": 21,
   "id": "e885c334-7811-4159-af16-0c8562a1a05c",
   "metadata": {},
   "outputs": [
    {
     "data": {
      "text/plain": [
       "array(['All Levels', 'Intermediate Level', 'Beginner Level',\n",
       "       'Expert Level', '52'], dtype=object)"
      ]
     },
     "execution_count": 21,
     "metadata": {},
     "output_type": "execute_result"
    }
   ],
   "source": [
    "df['level'].unique()"
   ]
  },
  {
   "cell_type": "code",
   "execution_count": 22,
   "id": "105a40d7-251f-4fc1-afde-cdbf046a4951",
   "metadata": {},
   "outputs": [
    {
     "data": {
      "text/plain": [
       "level\n",
       "All Levels            1932\n",
       "Beginner Level        1271\n",
       "Intermediate Level     421\n",
       "Expert Level            58\n",
       "52                       1\n",
       "Name: count, dtype: int64"
      ]
     },
     "execution_count": 22,
     "metadata": {},
     "output_type": "execute_result"
    }
   ],
   "source": [
    "df['level'].value_counts()"
   ]
  },
  {
   "cell_type": "code",
   "execution_count": 23,
   "id": "65e0a66c-716a-479c-88b0-114bb57fd13a",
   "metadata": {},
   "outputs": [],
   "source": [
    "f=(df['level']=='52')"
   ]
  },
  {
   "cell_type": "code",
   "execution_count": 24,
   "id": "7fde63e3-126a-42c2-9100-4c0326834963",
   "metadata": {},
   "outputs": [
    {
     "data": {
      "text/html": [
       "<div>\n",
       "<style scoped>\n",
       "    .dataframe tbody tr th:only-of-type {\n",
       "        vertical-align: middle;\n",
       "    }\n",
       "\n",
       "    .dataframe tbody tr th {\n",
       "        vertical-align: top;\n",
       "    }\n",
       "\n",
       "    .dataframe thead th {\n",
       "        text-align: right;\n",
       "    }\n",
       "</style>\n",
       "<table border=\"1\" class=\"dataframe\">\n",
       "  <thead>\n",
       "    <tr style=\"text-align: right;\">\n",
       "      <th></th>\n",
       "      <th>Unnamed: 0</th>\n",
       "      <th>course_id</th>\n",
       "      <th>course_title</th>\n",
       "      <th>url</th>\n",
       "      <th>is_paid</th>\n",
       "      <th>price</th>\n",
       "      <th>num_subscribers</th>\n",
       "      <th>num_reviews</th>\n",
       "      <th>num_lectures</th>\n",
       "      <th>level</th>\n",
       "      <th>content_duration</th>\n",
       "      <th>published_timestamp</th>\n",
       "      <th>subject</th>\n",
       "      <th>clean_course_title</th>\n",
       "    </tr>\n",
       "  </thead>\n",
       "  <tbody>\n",
       "    <tr>\n",
       "      <th>2066</th>\n",
       "      <td>2066</td>\n",
       "      <td>96698</td>\n",
       "      <td>Learn Classical Guitar Technique and play 'Spa...</td>\n",
       "      <td>000!\"</td>\n",
       "      <td>https://www.udemy.com/learnguitartoworship/</td>\n",
       "      <td>TRUE</td>\n",
       "      <td>30</td>\n",
       "      <td>1463</td>\n",
       "      <td>29</td>\n",
       "      <td>52</td>\n",
       "      <td>Beginner Level</td>\n",
       "      <td>3 hours</td>\n",
       "      <td>Musical Instruments</td>\n",
       "      <td>Learn Classical Guitar Technique play Spanish ...</td>\n",
       "    </tr>\n",
       "  </tbody>\n",
       "</table>\n",
       "</div>"
      ],
      "text/plain": [
       "      Unnamed: 0  course_id  \\\n",
       "2066        2066      96698   \n",
       "\n",
       "                                           course_title    url  \\\n",
       "2066  Learn Classical Guitar Technique and play 'Spa...  000!\"   \n",
       "\n",
       "                                          is_paid price  num_subscribers  \\\n",
       "2066  https://www.udemy.com/learnguitartoworship/  TRUE               30   \n",
       "\n",
       "      num_reviews  num_lectures level content_duration published_timestamp  \\\n",
       "2066         1463            29    52   Beginner Level             3 hours   \n",
       "\n",
       "                  subject                                 clean_course_title  \n",
       "2066  Musical Instruments  Learn Classical Guitar Technique play Spanish ...  "
      ]
     },
     "execution_count": 24,
     "metadata": {},
     "output_type": "execute_result"
    }
   ],
   "source": [
    "df[f]"
   ]
  },
  {
   "cell_type": "code",
   "execution_count": 25,
   "id": "4ec429cb-8ebf-45d6-a0de-ade767387f95",
   "metadata": {},
   "outputs": [
    {
     "data": {
      "image/png": "[encoded data removed]",
      "text/plain": [
       "<Figure size 640x480 with 1 Axes>"
      ]
     },
     "metadata": {},
     "output_type": "display_data"
    }
   ],
   "source": [
    "df['level'].value_counts().plot(kind='bar')\n",
    "plt.xticks(rotation=45)\n",
    "plt.title('Distributions')\n",
    "plt.show()"
   ]
  },
  {
   "cell_type": "code",
   "execution_count": 26,
   "id": "80fdf73b-0629-49ac-8dbd-3b3f30b14f35",
   "metadata": {},
   "outputs": [
    {
     "data": {
      "text/plain": [
       "level\n",
       "52                         30\n",
       "All Levels            6916112\n",
       "Beginner Level        4052843\n",
       "Expert Level            50196\n",
       "Intermediate Level     742005\n",
       "Name: num_subscribers, dtype: int64"
      ]
     },
     "execution_count": 26,
     "metadata": {},
     "output_type": "execute_result"
    }
   ],
   "source": [
    "df.groupby('level')['num_subscribers'].sum()"
   ]
  },
  {
   "cell_type": "code",
   "execution_count": 27,
   "id": "f1dca8c6-7bb1-4b2e-a432-9dcb65d9f10d",
   "metadata": {},
   "outputs": [
    {
     "data": {
      "image/png": "[encoded data removed]",
      "text/plain": [
       "<Figure size 640x480 with 1 Axes>"
      ]
     },
     "metadata": {},
     "output_type": "display_data"
    }
   ],
   "source": [
    "df.groupby('level')['num_subscribers'].sum().plot(kind='bar')\n",
    "plt.show()"
   ]
  },
  {
   "cell_type": "code",
   "execution_count": 28,
   "id": "67ebd5a4-b36f-47c2-8583-565ee65365cc",
   "metadata": {},
   "outputs": [
    {
     "data": {
      "text/plain": [
       "subject              level             \n",
       "Business Finance     All Levels            699\n",
       "                     Beginner Level        341\n",
       "                     Intermediate Level    128\n",
       "                     Expert Level           31\n",
       "Graphic Design       All Levels            298\n",
       "                     Beginner Level        243\n",
       "                     Intermediate Level     57\n",
       "                     Expert Level            5\n",
       "Musical Instruments  Beginner Level        296\n",
       "                     All Levels            276\n",
       "                     Intermediate Level    101\n",
       "                     Expert Level            7\n",
       "                     52                      1\n",
       "Web Development      All Levels            659\n",
       "                     Beginner Level        391\n",
       "                     Intermediate Level    135\n",
       "                     Expert Level           15\n",
       "Name: count, dtype: int64"
      ]
     },
     "execution_count": 28,
     "metadata": {},
     "output_type": "execute_result"
    }
   ],
   "source": [
    "df.groupby('subject')['level'].value_counts()"
   ]
  },
  {
   "cell_type": "code",
   "execution_count": 29,
   "id": "07c845bb-1ede-41bd-b3ff-c3221046e68c",
   "metadata": {},
   "outputs": [
    {
     "data": {
      "image/png": "[encoded data removed]",
      "text/plain": [
       "<Figure size 1000x500 with 1 Axes>"
      ]
     },
     "metadata": {},
     "output_type": "display_data"
    }
   ],
   "source": [
    "plt.figure(figsize=(10,5))\n",
    "sns.barplot(x='level',y='num_subscribers',data=df,hue='subject')\n",
    "plt.show()"
   ]
  },
  {
   "cell_type": "code",
   "execution_count": 30,
   "id": "cb136c12-38ef-4c3b-8c26-5386f6f6a26f",
   "metadata": {},
   "outputs": [
    {
     "data": {
      "text/html": [
       "<div>\n",
       "<style scoped>\n",
       "    .dataframe tbody tr th:only-of-type {\n",
       "        vertical-align: middle;\n",
       "    }\n",
       "\n",
       "    .dataframe tbody tr th {\n",
       "        vertical-align: top;\n",
       "    }\n",
       "\n",
       "    .dataframe thead th {\n",
       "        text-align: right;\n",
       "    }\n",
       "</style>\n",
       "<table border=\"1\" class=\"dataframe\">\n",
       "  <thead>\n",
       "    <tr style=\"text-align: right;\">\n",
       "      <th></th>\n",
       "      <th>Unnamed: 0</th>\n",
       "      <th>course_id</th>\n",
       "      <th>course_title</th>\n",
       "      <th>url</th>\n",
       "      <th>is_paid</th>\n",
       "      <th>price</th>\n",
       "      <th>num_subscribers</th>\n",
       "      <th>num_reviews</th>\n",
       "      <th>num_lectures</th>\n",
       "      <th>level</th>\n",
       "      <th>content_duration</th>\n",
       "      <th>published_timestamp</th>\n",
       "      <th>subject</th>\n",
       "      <th>clean_course_title</th>\n",
       "    </tr>\n",
       "  </thead>\n",
       "  <tbody>\n",
       "    <tr>\n",
       "      <th>0</th>\n",
       "      <td>0</td>\n",
       "      <td>1070968</td>\n",
       "      <td>Ultimate Investment Banking Course</td>\n",
       "      <td>https://www.udemy.com/ultimate-investment-bank...</td>\n",
       "      <td>True</td>\n",
       "      <td>200</td>\n",
       "      <td>2147</td>\n",
       "      <td>23</td>\n",
       "      <td>51</td>\n",
       "      <td>All Levels</td>\n",
       "      <td>1.5 hours</td>\n",
       "      <td>2017-01-18T20:58:58Z</td>\n",
       "      <td>Business Finance</td>\n",
       "      <td>Ultimate Investment Banking Course</td>\n",
       "    </tr>\n",
       "    <tr>\n",
       "      <th>1</th>\n",
       "      <td>1</td>\n",
       "      <td>1113822</td>\n",
       "      <td>Complete GST Course &amp; Certification - Grow You...</td>\n",
       "      <td>https://www.udemy.com/goods-and-services-tax/</td>\n",
       "      <td>True</td>\n",
       "      <td>75</td>\n",
       "      <td>2792</td>\n",
       "      <td>923</td>\n",
       "      <td>274</td>\n",
       "      <td>All Levels</td>\n",
       "      <td>39 hours</td>\n",
       "      <td>2017-03-09T16:34:20Z</td>\n",
       "      <td>Business Finance</td>\n",
       "      <td>Complete GST Course  Certification  Grow Practice</td>\n",
       "    </tr>\n",
       "    <tr>\n",
       "      <th>2</th>\n",
       "      <td>2</td>\n",
       "      <td>1006314</td>\n",
       "      <td>Financial Modeling for Business Analysts and C...</td>\n",
       "      <td>https://www.udemy.com/financial-modeling-for-b...</td>\n",
       "      <td>True</td>\n",
       "      <td>45</td>\n",
       "      <td>2174</td>\n",
       "      <td>74</td>\n",
       "      <td>51</td>\n",
       "      <td>Intermediate Level</td>\n",
       "      <td>2.5 hours</td>\n",
       "      <td>2016-12-19T19:26:30Z</td>\n",
       "      <td>Business Finance</td>\n",
       "      <td>Financial Modeling Business Analysts Consultants</td>\n",
       "    </tr>\n",
       "    <tr>\n",
       "      <th>3</th>\n",
       "      <td>3</td>\n",
       "      <td>1210588</td>\n",
       "      <td>Beginner to Pro - Financial Analysis in Excel ...</td>\n",
       "      <td>https://www.udemy.com/complete-excel-finance-c...</td>\n",
       "      <td>True</td>\n",
       "      <td>95</td>\n",
       "      <td>2451</td>\n",
       "      <td>11</td>\n",
       "      <td>36</td>\n",
       "      <td>All Levels</td>\n",
       "      <td>3 hours</td>\n",
       "      <td>2017-05-30T20:07:24Z</td>\n",
       "      <td>Business Finance</td>\n",
       "      <td>Beginner Pro  Financial Analysis Excel 2017</td>\n",
       "    </tr>\n",
       "    <tr>\n",
       "      <th>4</th>\n",
       "      <td>4</td>\n",
       "      <td>1011058</td>\n",
       "      <td>How To Maximize Your Profits Trading Options</td>\n",
       "      <td>https://www.udemy.com/how-to-maximize-your-pro...</td>\n",
       "      <td>True</td>\n",
       "      <td>200</td>\n",
       "      <td>1276</td>\n",
       "      <td>45</td>\n",
       "      <td>26</td>\n",
       "      <td>Intermediate Level</td>\n",
       "      <td>2 hours</td>\n",
       "      <td>2016-12-13T14:57:18Z</td>\n",
       "      <td>Business Finance</td>\n",
       "      <td>Maximize Profits Trading Options</td>\n",
       "    </tr>\n",
       "  </tbody>\n",
       "</table>\n",
       "</div>"
      ],
      "text/plain": [
       "   Unnamed: 0  course_id                                       course_title  \\\n",
       "0           0    1070968                 Ultimate Investment Banking Course   \n",
       "1           1    1113822  Complete GST Course & Certification - Grow You...   \n",
       "2           2    1006314  Financial Modeling for Business Analysts and C...   \n",
       "3           3    1210588  Beginner to Pro - Financial Analysis in Excel ...   \n",
       "4           4    1011058       How To Maximize Your Profits Trading Options   \n",
       "\n",
       "                                                 url is_paid price  \\\n",
       "0  https://www.udemy.com/ultimate-investment-bank...    True   200   \n",
       "1      https://www.udemy.com/goods-and-services-tax/    True    75   \n",
       "2  https://www.udemy.com/financial-modeling-for-b...    True    45   \n",
       "3  https://www.udemy.com/complete-excel-finance-c...    True    95   \n",
       "4  https://www.udemy.com/how-to-maximize-your-pro...    True   200   \n",
       "\n",
       "   num_subscribers  num_reviews  num_lectures               level  \\\n",
       "0             2147           23            51          All Levels   \n",
       "1             2792          923           274          All Levels   \n",
       "2             2174           74            51  Intermediate Level   \n",
       "3             2451           11            36          All Levels   \n",
       "4             1276           45            26  Intermediate Level   \n",
       "\n",
       "  content_duration   published_timestamp           subject  \\\n",
       "0        1.5 hours  2017-01-18T20:58:58Z  Business Finance   \n",
       "1         39 hours  2017-03-09T16:34:20Z  Business Finance   \n",
       "2        2.5 hours  2016-12-19T19:26:30Z  Business Finance   \n",
       "3          3 hours  2017-05-30T20:07:24Z  Business Finance   \n",
       "4          2 hours  2016-12-13T14:57:18Z  Business Finance   \n",
       "\n",
       "                                  clean_course_title  \n",
       "0                 Ultimate Investment Banking Course  \n",
       "1  Complete GST Course  Certification  Grow Practice  \n",
       "2   Financial Modeling Business Analysts Consultants  \n",
       "3        Beginner Pro  Financial Analysis Excel 2017  \n",
       "4                   Maximize Profits Trading Options  "
      ]
     },
     "execution_count": 30,
     "metadata": {},
     "output_type": "execute_result"
    }
   ],
   "source": [
    "df.head()"
   ]
  },
  {
   "cell_type": "code",
   "execution_count": 31,
   "id": "69f684c8-db3d-4c56-a4bf-d91907396ea4",
   "metadata": {},
   "outputs": [],
   "source": [
    "def func(x):\n",
    "    plt.figure(figsize=(10,5))\n",
    "    sns.barplot(x='level',y=x,data=df,hue='subject')\n",
    "    plt.title('plot of {} per level per subject'.format(x))\n",
    "    plt.show()\n",
    "    #pie chart\n",
    "    plt.figure(figsize=(8,5))\n",
    "    df.groupby('level')[x].sum().plot(kind='pie')\n",
    "    plt.title('plot of {} per level'.format(x))\n",
    "    plt.show()"
   ]
  },
  {
   "cell_type": "code",
   "execution_count": 32,
   "id": "c6e0571f-15a6-499f-a9ce-ef5aa6846581",
   "metadata": {},
   "outputs": [
    {
     "data": {
      "image/png": "[encoded data removed]",
      "text/plain": [
       "<Figure size 1000x500 with 1 Axes>"
      ]
     },
     "metadata": {},
     "output_type": "display_data"
    },
    {
     "data": {
      "image/png": "[encoded data removed]",
      "text/plain": [
       "<Figure size 800x500 with 1 Axes>"
      ]
     },
     "metadata": {},
     "output_type": "display_data"
    }
   ],
   "source": [
    "func('num_reviews')"
   ]
  },
  {
   "cell_type": "code",
   "execution_count": 33,
   "id": "71b280e5-a016-4030-87ee-4e01a62edc0a",
   "metadata": {},
   "outputs": [
    {
     "data": {
      "image/png": "[encoded data removed]",
      "text/plain": [
       "<Figure size 1000x500 with 1 Axes>"
      ]
     },
     "metadata": {},
     "output_type": "display_data"
    },
    {
     "data": {
      "image/png": "[encoded data removed]",
      "text/plain": [
       "<Figure size 800x500 with 1 Axes>"
      ]
     },
     "metadata": {},
     "output_type": "display_data"
    }
   ],
   "source": [
    "func('num_lectures')"
   ]
  },
  {
   "cell_type": "code",
   "execution_count": 34,
   "id": "38a6ab33-7cd3-4353-a3df-1ac9bcda6d05",
   "metadata": {},
   "outputs": [
    {
     "data": {
      "image/png": "[encoded data removed]",
      "text/plain": [
       "<Figure size 1000x500 with 1 Axes>"
      ]
     },
     "metadata": {},
     "output_type": "display_data"
    },
    {
     "data": {
      "image/png": "[encoded data removed]",
      "text/plain": [
       "<Figure size 800x500 with 1 Axes>"
      ]
     },
     "metadata": {},
     "output_type": "display_data"
    }
   ],
   "source": [
    "func('num_subscribers')"
   ]
  },
  {
   "cell_type": "code",
   "execution_count": 35,
   "id": "b1e85d83-a8c1-451f-8ce4-a2b449800f9e",
   "metadata": {},
   "outputs": [
    {
     "data": {
      "text/plain": [
       "dtype('O')"
      ]
     },
     "execution_count": 35,
     "metadata": {},
     "output_type": "execute_result"
    }
   ],
   "source": [
    "df['price'].dtype"
   ]
  },
  {
   "cell_type": "code",
   "execution_count": 36,
   "id": "26bcc24c-7e8f-4119-84a0-209eb9d6f3ba",
   "metadata": {},
   "outputs": [
    {
     "data": {
      "text/plain": [
       "array(['200', '75', '45', '95', '150', '65', '195', '30', '20', '50',\n",
       "       '175', '140', '115', '190', '125', '60', '145', '105', '155',\n",
       "       '185', '180', '120', '25', '160', '40', 'Free', '100', '90', '35',\n",
       "       '80', '70', '55', '165', '130', '85', '170', '110', '135', 'TRUE'],\n",
       "      dtype=object)"
      ]
     },
     "execution_count": 36,
     "metadata": {},
     "output_type": "execute_result"
    }
   ],
   "source": [
    "df['price'].unique()"
   ]
  },
  {
   "cell_type": "code",
   "execution_count": 37,
   "id": "430995ff-c199-44b6-8257-b1434c387781",
   "metadata": {},
   "outputs": [],
   "source": [
    "df['price']=df['price'].str.replace('Free|TRUE','0',regex=True)"
   ]
  },
  {
   "cell_type": "code",
   "execution_count": 38,
   "id": "842987f7-f390-4042-8fed-c6bc69e813b9",
   "metadata": {},
   "outputs": [],
   "source": [
    "df['price']=df['price'].astype(float)"
   ]
  },
  {
   "cell_type": "code",
   "execution_count": 39,
   "id": "69cfe9ae-0e74-4a51-a47e-b41382206ac9",
   "metadata": {},
   "outputs": [
    {
     "data": {
      "text/plain": [
       "np.float64(65.99239750203638)"
      ]
     },
     "execution_count": 39,
     "metadata": {},
     "output_type": "execute_result"
    }
   ],
   "source": [
    "df['price'].mean()"
   ]
  },
  {
   "cell_type": "code",
   "execution_count": 40,
   "id": "738a123e-4a10-46f3-947c-15a984db3442",
   "metadata": {},
   "outputs": [
    {
     "data": {
      "text/plain": [
       "subject\n",
       "Business Finance       82040.0\n",
       "Graphic Design         34870.0\n",
       "Musical Instruments    33700.0\n",
       "Web Development        92440.0\n",
       "Name: price, dtype: float64"
      ]
     },
     "execution_count": 40,
     "metadata": {},
     "output_type": "execute_result"
    }
   ],
   "source": [
    "df.groupby('subject')['price'].sum()"
   ]
  },
  {
   "cell_type": "code",
   "execution_count": 41,
   "id": "9249efc1-6d3e-41a8-994a-712fc13a4a44",
   "metadata": {},
   "outputs": [
    {
     "data": {
      "text/plain": [
       "np.float64(200.0)"
      ]
     },
     "execution_count": 41,
     "metadata": {},
     "output_type": "execute_result"
    }
   ],
   "source": [
    "df['price'].max()"
   ]
  },
  {
   "cell_type": "code",
   "execution_count": 42,
   "id": "a4aa561e-1bf0-4dad-aa85-d7ddcb6d4a57",
   "metadata": {},
   "outputs": [
    {
     "data": {
      "text/plain": [
       "0"
      ]
     },
     "execution_count": 42,
     "metadata": {},
     "output_type": "execute_result"
    }
   ],
   "source": [
    "df['price'].idxmax()"
   ]
  },
  {
   "cell_type": "code",
   "execution_count": 43,
   "id": "44d289a2-e3eb-4dea-b81c-27cca34dff95",
   "metadata": {},
   "outputs": [
    {
     "data": {
      "text/plain": [
       "Unnamed: 0                                                             0\n",
       "course_id                                                        1070968\n",
       "course_title                          Ultimate Investment Banking Course\n",
       "url                    https://www.udemy.com/ultimate-investment-bank...\n",
       "is_paid                                                             True\n",
       "price                                                              200.0\n",
       "num_subscribers                                                     2147\n",
       "num_reviews                                                           23\n",
       "num_lectures                                                          51\n",
       "level                                                         All Levels\n",
       "content_duration                                               1.5 hours\n",
       "published_timestamp                                 2017-01-18T20:58:58Z\n",
       "subject                                                 Business Finance\n",
       "clean_course_title                    Ultimate Investment Banking Course\n",
       "Name: 0, dtype: object"
      ]
     },
     "execution_count": 43,
     "metadata": {},
     "output_type": "execute_result"
    }
   ],
   "source": [
    "df.iloc[0]"
   ]
  },
  {
   "cell_type": "code",
   "execution_count": 44,
   "id": "93e405fa-8be5-476f-acd3-d4aa6c172f18",
   "metadata": {},
   "outputs": [],
   "source": [
    "df['profit']=df['price']*df['num_subscribers']"
   ]
  },
  {
   "cell_type": "code",
   "execution_count": 80,
   "id": "5a9a5225-c557-4c9c-bdd4-0bd7ab1658d0",
   "metadata": {},
   "outputs": [
    {
     "ename": "TypeError",
     "evalue": "tolist() takes 1 positional argument but 2 were given",
     "output_type": "error",
     "traceback": [
      "\u001b[0;31m---------------------------------------------------------------------------\u001b[0m",
      "\u001b[0;31mTypeError\u001b[0m                                 Traceback (most recent call last)",
      "Cell \u001b[0;32mIn[80], line 1\u001b[0m\n\u001b[0;32m----> 1\u001b[0m \u001b[43mdf\u001b[49m\u001b[43m[\u001b[49m\u001b[38;5;124;43m'\u001b[39;49m\u001b[38;5;124;43mprofit\u001b[39;49m\u001b[38;5;124;43m'\u001b[39;49m\u001b[43m]\u001b[49m\u001b[38;5;241;43m.\u001b[39;49m\u001b[43mtolist\u001b[49m\u001b[43m(\u001b[49m\u001b[38;5;241;43m5\u001b[39;49m\u001b[43m)\u001b[49m\n",
      "\u001b[0;31mTypeError\u001b[0m: tolist() takes 1 positional argument but 2 were given"
     ]
    }
   ],
   "source": [
    "df['profit'].tolist(5)"
   ]
  },
  {
   "cell_type": "code",
   "execution_count": 46,
   "id": "36023e80-ae7e-4ed7-803a-a7150587cf1c",
   "metadata": {},
   "outputs": [
    {
     "data": {
      "text/plain": [
       "np.float64(24316800.0)"
      ]
     },
     "execution_count": 46,
     "metadata": {},
     "output_type": "execute_result"
    }
   ],
   "source": [
    "df['profit'].max()"
   ]
  },
  {
   "cell_type": "code",
   "execution_count": 47,
   "id": "e588d0e5-fce1-4d93-aee6-3cca0f200944",
   "metadata": {},
   "outputs": [
    {
     "data": {
      "text/plain": [
       "3235"
      ]
     },
     "execution_count": 47,
     "metadata": {},
     "output_type": "execute_result"
    }
   ],
   "source": [
    "df['profit'].idxmax()"
   ]
  },
  {
   "cell_type": "code",
   "execution_count": 48,
   "id": "89fa2ad2-b370-40d2-9393-ce65f8bb900d",
   "metadata": {},
   "outputs": [
    {
     "data": {
      "text/plain": [
       "Unnamed: 0                                                          3235\n",
       "course_id                                                         625204\n",
       "course_title                                  The Web Developer Bootcamp\n",
       "url                    https://www.udemy.com/the-web-developer-bootcamp/\n",
       "is_paid                                                             True\n",
       "price                                                              200.0\n",
       "num_subscribers                                                   121584\n",
       "num_reviews                                                        27445\n",
       "num_lectures                                                         342\n",
       "level                                                         All Levels\n",
       "content_duration                                                43 hours\n",
       "published_timestamp                                 2015-11-02T21:13:27Z\n",
       "subject                                                  Web Development\n",
       "clean_course_title                                Web Developer Bootcamp\n",
       "profit                                                        24316800.0\n",
       "Name: 3235, dtype: object"
      ]
     },
     "execution_count": 48,
     "metadata": {},
     "output_type": "execute_result"
    }
   ],
   "source": [
    "df.iloc[3235]"
   ]
  },
  {
   "cell_type": "code",
   "execution_count": 49,
   "id": "89d2f3a5-53c5-405f-8ccc-5fc08bd1f866",
   "metadata": {},
   "outputs": [
    {
     "data": {
      "text/plain": [
       "Index(['Unnamed: 0', 'course_id', 'course_title', 'url', 'is_paid', 'price',\n",
       "       'num_subscribers', 'num_reviews', 'num_lectures', 'level',\n",
       "       'content_duration', 'published_timestamp', 'subject',\n",
       "       'clean_course_title', 'profit'],\n",
       "      dtype='object')"
      ]
     },
     "execution_count": 49,
     "metadata": {},
     "output_type": "execute_result"
    }
   ],
   "source": [
    "df.columns"
   ]
  },
  {
   "cell_type": "code",
   "execution_count": 50,
   "id": "c79ea355-7f9c-40e3-aec8-e4596a46f5a2",
   "metadata": {},
   "outputs": [
    {
     "data": {
      "text/plain": [
       "is_paid\n",
       "True                                           2738\n",
       "TRUE                                            634\n",
       "False                                           264\n",
       "FALSE                                            46\n",
       "https://www.udemy.com/learnguitartoworship/       1\n",
       "Name: count, dtype: int64"
      ]
     },
     "execution_count": 50,
     "metadata": {},
     "output_type": "execute_result"
    }
   ],
   "source": [
    "df['is_paid'].value_counts()"
   ]
  },
  {
   "cell_type": "code",
   "execution_count": 51,
   "id": "5187270d-3305-47c2-b591-26aef4ea4353",
   "metadata": {},
   "outputs": [],
   "source": [
    "paid_dic={'True':True,'TRUE':True,'False':False,'FALSE':False,'https://www.udemy.com/learnguitartoworship/':True}\n"
   ]
  },
  {
   "cell_type": "code",
   "execution_count": 52,
   "id": "48cc3d17-0882-4b62-b33d-53981dab7892",
   "metadata": {},
   "outputs": [],
   "source": [
    "df['is_paid']=df['is_paid'].map(paid_dic)"
   ]
  },
  {
   "cell_type": "code",
   "execution_count": 53,
   "id": "f55e758e-7e32-4e2c-b1c7-099df33ea0d6",
   "metadata": {},
   "outputs": [
    {
     "data": {
      "image/png": "[encoded data removed]",
      "text/plain": [
       "<Figure size 640x480 with 1 Axes>"
      ]
     },
     "metadata": {},
     "output_type": "display_data"
    }
   ],
   "source": [
    "df['is_paid'].value_counts().plot(kind='bar')\n",
    "plt.show()"
   ]
  },
  {
   "cell_type": "code",
   "execution_count": 54,
   "id": "b860d948-6eb0-49b6-a276-db9888e7825f",
   "metadata": {},
   "outputs": [],
   "source": [
    "#using seaborn"
   ]
  },
  {
   "cell_type": "code",
   "execution_count": 55,
   "id": "7f1b7edb-cb53-41a8-943c-9293f3b3a418",
   "metadata": {},
   "outputs": [
    {
     "data": {
      "image/png": "[encoded data removed]",
      "text/plain": [
       "<Figure size 700x700 with 1 Axes>"
      ]
     },
     "metadata": {},
     "output_type": "display_data"
    }
   ],
   "source": [
    "plt.figure(figsize=(7,7))\n",
    "sns.countplot(x=df['is_paid'])\n",
    "plt.show()"
   ]
  },
  {
   "cell_type": "code",
   "execution_count": 56,
   "id": "84defa86-cf0b-4201-bbfe-d13427d3cd0b",
   "metadata": {},
   "outputs": [
    {
     "data": {
      "text/plain": [
       "subject              is_paid\n",
       "Business Finance     True       1103\n",
       "                     False        96\n",
       "Graphic Design       True        568\n",
       "                     False        35\n",
       "Musical Instruments  True        635\n",
       "                     False        46\n",
       "Web Development      True       1067\n",
       "                     False       133\n",
       "Name: count, dtype: int64"
      ]
     },
     "execution_count": 56,
     "metadata": {},
     "output_type": "execute_result"
    }
   ],
   "source": [
    "df.groupby('subject')['is_paid'].value_counts()"
   ]
  },
  {
   "cell_type": "code",
   "execution_count": 57,
   "id": "ba015a3e-dcf7-4163-9352-32d18377e0a5",
   "metadata": {},
   "outputs": [],
   "source": [
    "#Length of the Course Title"
   ]
  },
  {
   "cell_type": "code",
   "execution_count": 58,
   "id": "ee42b401-dc95-44da-9739-6709e21df7fb",
   "metadata": {},
   "outputs": [],
   "source": [
    "df['course_title_length']=df['course_title'].str.len()"
   ]
  },
  {
   "cell_type": "code",
   "execution_count": 59,
   "id": "1de91c69-f346-47cf-affc-04a2f5be0664",
   "metadata": {},
   "outputs": [
    {
     "data": {
      "text/plain": [
       "2191"
      ]
     },
     "execution_count": 59,
     "metadata": {},
     "output_type": "execute_result"
    }
   ],
   "source": [
    "df['course_title_length'].idxmax()"
   ]
  },
  {
   "cell_type": "code",
   "execution_count": 60,
   "id": "f092a6b1-aa13-4cac-8530-e1a3a7d2d6f6",
   "metadata": {},
   "outputs": [
    {
     "data": {
      "text/plain": [
       "Unnamed: 0                                                          2191\n",
       "course_id                                                         286898\n",
       "course_title           Aprende a tocar el Acordeón 'de oído y con téc...\n",
       "url                    https://www.udemy.com/aprende-los-secretos-de-...\n",
       "is_paid                                                             True\n",
       "price                                                               75.0\n",
       "num_subscribers                                                      158\n",
       "num_reviews                                                           17\n",
       "num_lectures                                                          59\n",
       "level                                                         All Levels\n",
       "content_duration                                               2.5 hours\n",
       "published_timestamp                                 2014-07-28T13:55:43Z\n",
       "subject                                              Musical Instruments\n",
       "clean_course_title     Aprende tocar el Acorden de odo con tcnicahttp...\n",
       "profit                                                           11850.0\n",
       "course_title_length                                                  243\n",
       "Name: 2191, dtype: object"
      ]
     },
     "execution_count": 60,
     "metadata": {},
     "output_type": "execute_result"
    }
   ],
   "source": [
    "df.iloc[2191]"
   ]
  },
  {
   "cell_type": "code",
   "execution_count": 61,
   "id": "e2af69a6-ce80-40f8-ae40-9b32d4d06ed4",
   "metadata": {},
   "outputs": [
    {
     "data": {
      "text/html": [
       "<div>\n",
       "<style scoped>\n",
       "    .dataframe tbody tr th:only-of-type {\n",
       "        vertical-align: middle;\n",
       "    }\n",
       "\n",
       "    .dataframe tbody tr th {\n",
       "        vertical-align: top;\n",
       "    }\n",
       "\n",
       "    .dataframe thead th {\n",
       "        text-align: right;\n",
       "    }\n",
       "</style>\n",
       "<table border=\"1\" class=\"dataframe\">\n",
       "  <thead>\n",
       "    <tr style=\"text-align: right;\">\n",
       "      <th></th>\n",
       "      <th>Unnamed: 0</th>\n",
       "      <th>course_id</th>\n",
       "      <th>course_title</th>\n",
       "      <th>url</th>\n",
       "      <th>is_paid</th>\n",
       "      <th>price</th>\n",
       "      <th>num_subscribers</th>\n",
       "      <th>num_reviews</th>\n",
       "      <th>num_lectures</th>\n",
       "      <th>level</th>\n",
       "      <th>content_duration</th>\n",
       "      <th>published_timestamp</th>\n",
       "      <th>subject</th>\n",
       "      <th>clean_course_title</th>\n",
       "      <th>profit</th>\n",
       "      <th>course_title_length</th>\n",
       "    </tr>\n",
       "  </thead>\n",
       "  <tbody>\n",
       "    <tr>\n",
       "      <th>0</th>\n",
       "      <td>0</td>\n",
       "      <td>1070968</td>\n",
       "      <td>Ultimate Investment Banking Course</td>\n",
       "      <td>https://www.udemy.com/ultimate-investment-bank...</td>\n",
       "      <td>True</td>\n",
       "      <td>200.0</td>\n",
       "      <td>2147</td>\n",
       "      <td>23</td>\n",
       "      <td>51</td>\n",
       "      <td>All Levels</td>\n",
       "      <td>1.5 hours</td>\n",
       "      <td>2017-01-18T20:58:58Z</td>\n",
       "      <td>Business Finance</td>\n",
       "      <td>Ultimate Investment Banking Course</td>\n",
       "      <td>429400.0</td>\n",
       "      <td>34</td>\n",
       "    </tr>\n",
       "    <tr>\n",
       "      <th>1</th>\n",
       "      <td>1</td>\n",
       "      <td>1113822</td>\n",
       "      <td>Complete GST Course &amp; Certification - Grow You...</td>\n",
       "      <td>https://www.udemy.com/goods-and-services-tax/</td>\n",
       "      <td>True</td>\n",
       "      <td>75.0</td>\n",
       "      <td>2792</td>\n",
       "      <td>923</td>\n",
       "      <td>274</td>\n",
       "      <td>All Levels</td>\n",
       "      <td>39 hours</td>\n",
       "      <td>2017-03-09T16:34:20Z</td>\n",
       "      <td>Business Finance</td>\n",
       "      <td>Complete GST Course  Certification  Grow Practice</td>\n",
       "      <td>209400.0</td>\n",
       "      <td>59</td>\n",
       "    </tr>\n",
       "    <tr>\n",
       "      <th>2</th>\n",
       "      <td>2</td>\n",
       "      <td>1006314</td>\n",
       "      <td>Financial Modeling for Business Analysts and C...</td>\n",
       "      <td>https://www.udemy.com/financial-modeling-for-b...</td>\n",
       "      <td>True</td>\n",
       "      <td>45.0</td>\n",
       "      <td>2174</td>\n",
       "      <td>74</td>\n",
       "      <td>51</td>\n",
       "      <td>Intermediate Level</td>\n",
       "      <td>2.5 hours</td>\n",
       "      <td>2016-12-19T19:26:30Z</td>\n",
       "      <td>Business Finance</td>\n",
       "      <td>Financial Modeling Business Analysts Consultants</td>\n",
       "      <td>97830.0</td>\n",
       "      <td>56</td>\n",
       "    </tr>\n",
       "    <tr>\n",
       "      <th>3</th>\n",
       "      <td>3</td>\n",
       "      <td>1210588</td>\n",
       "      <td>Beginner to Pro - Financial Analysis in Excel ...</td>\n",
       "      <td>https://www.udemy.com/complete-excel-finance-c...</td>\n",
       "      <td>True</td>\n",
       "      <td>95.0</td>\n",
       "      <td>2451</td>\n",
       "      <td>11</td>\n",
       "      <td>36</td>\n",
       "      <td>All Levels</td>\n",
       "      <td>3 hours</td>\n",
       "      <td>2017-05-30T20:07:24Z</td>\n",
       "      <td>Business Finance</td>\n",
       "      <td>Beginner Pro  Financial Analysis Excel 2017</td>\n",
       "      <td>232845.0</td>\n",
       "      <td>50</td>\n",
       "    </tr>\n",
       "    <tr>\n",
       "      <th>4</th>\n",
       "      <td>4</td>\n",
       "      <td>1011058</td>\n",
       "      <td>How To Maximize Your Profits Trading Options</td>\n",
       "      <td>https://www.udemy.com/how-to-maximize-your-pro...</td>\n",
       "      <td>True</td>\n",
       "      <td>200.0</td>\n",
       "      <td>1276</td>\n",
       "      <td>45</td>\n",
       "      <td>26</td>\n",
       "      <td>Intermediate Level</td>\n",
       "      <td>2 hours</td>\n",
       "      <td>2016-12-13T14:57:18Z</td>\n",
       "      <td>Business Finance</td>\n",
       "      <td>Maximize Profits Trading Options</td>\n",
       "      <td>255200.0</td>\n",
       "      <td>44</td>\n",
       "    </tr>\n",
       "    <tr>\n",
       "      <th>...</th>\n",
       "      <td>...</td>\n",
       "      <td>...</td>\n",
       "      <td>...</td>\n",
       "      <td>...</td>\n",
       "      <td>...</td>\n",
       "      <td>...</td>\n",
       "      <td>...</td>\n",
       "      <td>...</td>\n",
       "      <td>...</td>\n",
       "      <td>...</td>\n",
       "      <td>...</td>\n",
       "      <td>...</td>\n",
       "      <td>...</td>\n",
       "      <td>...</td>\n",
       "      <td>...</td>\n",
       "      <td>...</td>\n",
       "    </tr>\n",
       "    <tr>\n",
       "      <th>3678</th>\n",
       "      <td>3678</td>\n",
       "      <td>775618</td>\n",
       "      <td>Learn jQuery from Scratch - Master of JavaScri...</td>\n",
       "      <td>https://www.udemy.com/easy-jquery-for-beginner...</td>\n",
       "      <td>True</td>\n",
       "      <td>100.0</td>\n",
       "      <td>1040</td>\n",
       "      <td>14</td>\n",
       "      <td>21</td>\n",
       "      <td>All Levels</td>\n",
       "      <td>2 hours</td>\n",
       "      <td>2016-06-14T17:36:46Z</td>\n",
       "      <td>Web Development</td>\n",
       "      <td>Learn jQuery Scratch  Master JavaScript library</td>\n",
       "      <td>104000.0</td>\n",
       "      <td>56</td>\n",
       "    </tr>\n",
       "    <tr>\n",
       "      <th>3679</th>\n",
       "      <td>3679</td>\n",
       "      <td>1088178</td>\n",
       "      <td>How To Design A WordPress Website With No Codi...</td>\n",
       "      <td>https://www.udemy.com/how-to-make-a-wordpress-...</td>\n",
       "      <td>True</td>\n",
       "      <td>25.0</td>\n",
       "      <td>306</td>\n",
       "      <td>3</td>\n",
       "      <td>42</td>\n",
       "      <td>Beginner Level</td>\n",
       "      <td>3.5 hours</td>\n",
       "      <td>2017-03-10T22:24:30Z</td>\n",
       "      <td>Web Development</td>\n",
       "      <td>Design WordPress Website Coding</td>\n",
       "      <td>7650.0</td>\n",
       "      <td>55</td>\n",
       "    </tr>\n",
       "    <tr>\n",
       "      <th>3680</th>\n",
       "      <td>3680</td>\n",
       "      <td>635248</td>\n",
       "      <td>Learn and Build using Polymer</td>\n",
       "      <td>https://www.udemy.com/learn-and-build-using-po...</td>\n",
       "      <td>True</td>\n",
       "      <td>40.0</td>\n",
       "      <td>513</td>\n",
       "      <td>169</td>\n",
       "      <td>48</td>\n",
       "      <td>All Levels</td>\n",
       "      <td>3.5 hours</td>\n",
       "      <td>2015-12-30T16:41:42Z</td>\n",
       "      <td>Web Development</td>\n",
       "      <td>Learn Build Polymer</td>\n",
       "      <td>20520.0</td>\n",
       "      <td>29</td>\n",
       "    </tr>\n",
       "    <tr>\n",
       "      <th>3681</th>\n",
       "      <td>3681</td>\n",
       "      <td>905096</td>\n",
       "      <td>CSS Animations: Create Amazing Effects on Your...</td>\n",
       "      <td>https://www.udemy.com/css-animations-create-am...</td>\n",
       "      <td>True</td>\n",
       "      <td>50.0</td>\n",
       "      <td>300</td>\n",
       "      <td>31</td>\n",
       "      <td>38</td>\n",
       "      <td>All Levels</td>\n",
       "      <td>3 hours</td>\n",
       "      <td>2016-08-11T19:06:15Z</td>\n",
       "      <td>Web Development</td>\n",
       "      <td>CSS Animations Create Amazing Effects Website</td>\n",
       "      <td>15000.0</td>\n",
       "      <td>54</td>\n",
       "    </tr>\n",
       "    <tr>\n",
       "      <th>3682</th>\n",
       "      <td>3682</td>\n",
       "      <td>297602</td>\n",
       "      <td>Using MODX CMS to Build Websites: A Beginner's...</td>\n",
       "      <td>https://www.udemy.com/using-modx-cms-to-build-...</td>\n",
       "      <td>True</td>\n",
       "      <td>45.0</td>\n",
       "      <td>901</td>\n",
       "      <td>36</td>\n",
       "      <td>20</td>\n",
       "      <td>Beginner Level</td>\n",
       "      <td>2 hours</td>\n",
       "      <td>2014-09-28T19:51:11Z</td>\n",
       "      <td>Web Development</td>\n",
       "      <td>MODX CMS Build Websites Beginners Guide</td>\n",
       "      <td>40545.0</td>\n",
       "      <td>52</td>\n",
       "    </tr>\n",
       "  </tbody>\n",
       "</table>\n",
       "<p>3683 rows × 16 columns</p>\n",
       "</div>"
      ],
      "text/plain": [
       "      Unnamed: 0  course_id  \\\n",
       "0              0    1070968   \n",
       "1              1    1113822   \n",
       "2              2    1006314   \n",
       "3              3    1210588   \n",
       "4              4    1011058   \n",
       "...          ...        ...   \n",
       "3678        3678     775618   \n",
       "3679        3679    1088178   \n",
       "3680        3680     635248   \n",
       "3681        3681     905096   \n",
       "3682        3682     297602   \n",
       "\n",
       "                                           course_title  \\\n",
       "0                    Ultimate Investment Banking Course   \n",
       "1     Complete GST Course & Certification - Grow You...   \n",
       "2     Financial Modeling for Business Analysts and C...   \n",
       "3     Beginner to Pro - Financial Analysis in Excel ...   \n",
       "4          How To Maximize Your Profits Trading Options   \n",
       "...                                                 ...   \n",
       "3678  Learn jQuery from Scratch - Master of JavaScri...   \n",
       "3679  How To Design A WordPress Website With No Codi...   \n",
       "3680                      Learn and Build using Polymer   \n",
       "3681  CSS Animations: Create Amazing Effects on Your...   \n",
       "3682  Using MODX CMS to Build Websites: A Beginner's...   \n",
       "\n",
       "                                                    url  is_paid  price  \\\n",
       "0     https://www.udemy.com/ultimate-investment-bank...     True  200.0   \n",
       "1         https://www.udemy.com/goods-and-services-tax/     True   75.0   \n",
       "2     https://www.udemy.com/financial-modeling-for-b...     True   45.0   \n",
       "3     https://www.udemy.com/complete-excel-finance-c...     True   95.0   \n",
       "4     https://www.udemy.com/how-to-maximize-your-pro...     True  200.0   \n",
       "...                                                 ...      ...    ...   \n",
       "3678  https://www.udemy.com/easy-jquery-for-beginner...     True  100.0   \n",
       "3679  https://www.udemy.com/how-to-make-a-wordpress-...     True   25.0   \n",
       "3680  https://www.udemy.com/learn-and-build-using-po...     True   40.0   \n",
       "3681  https://www.udemy.com/css-animations-create-am...     True   50.0   \n",
       "3682  https://www.udemy.com/using-modx-cms-to-build-...     True   45.0   \n",
       "\n",
       "      num_subscribers  num_reviews  num_lectures               level  \\\n",
       "0                2147           23            51          All Levels   \n",
       "1                2792          923           274          All Levels   \n",
       "2                2174           74            51  Intermediate Level   \n",
       "3                2451           11            36          All Levels   \n",
       "4                1276           45            26  Intermediate Level   \n",
       "...               ...          ...           ...                 ...   \n",
       "3678             1040           14            21          All Levels   \n",
       "3679              306            3            42      Beginner Level   \n",
       "3680              513          169            48          All Levels   \n",
       "3681              300           31            38          All Levels   \n",
       "3682              901           36            20      Beginner Level   \n",
       "\n",
       "     content_duration   published_timestamp           subject  \\\n",
       "0           1.5 hours  2017-01-18T20:58:58Z  Business Finance   \n",
       "1            39 hours  2017-03-09T16:34:20Z  Business Finance   \n",
       "2           2.5 hours  2016-12-19T19:26:30Z  Business Finance   \n",
       "3             3 hours  2017-05-30T20:07:24Z  Business Finance   \n",
       "4             2 hours  2016-12-13T14:57:18Z  Business Finance   \n",
       "...               ...                   ...               ...   \n",
       "3678          2 hours  2016-06-14T17:36:46Z   Web Development   \n",
       "3679        3.5 hours  2017-03-10T22:24:30Z   Web Development   \n",
       "3680        3.5 hours  2015-12-30T16:41:42Z   Web Development   \n",
       "3681          3 hours  2016-08-11T19:06:15Z   Web Development   \n",
       "3682          2 hours  2014-09-28T19:51:11Z   Web Development   \n",
       "\n",
       "                                     clean_course_title    profit  \\\n",
       "0                    Ultimate Investment Banking Course  429400.0   \n",
       "1     Complete GST Course  Certification  Grow Practice  209400.0   \n",
       "2      Financial Modeling Business Analysts Consultants   97830.0   \n",
       "3           Beginner Pro  Financial Analysis Excel 2017  232845.0   \n",
       "4                      Maximize Profits Trading Options  255200.0   \n",
       "...                                                 ...       ...   \n",
       "3678    Learn jQuery Scratch  Master JavaScript library  104000.0   \n",
       "3679                    Design WordPress Website Coding    7650.0   \n",
       "3680                                Learn Build Polymer   20520.0   \n",
       "3681      CSS Animations Create Amazing Effects Website   15000.0   \n",
       "3682            MODX CMS Build Websites Beginners Guide   40545.0   \n",
       "\n",
       "      course_title_length  \n",
       "0                      34  \n",
       "1                      59  \n",
       "2                      56  \n",
       "3                      50  \n",
       "4                      44  \n",
       "...                   ...  \n",
       "3678                   56  \n",
       "3679                   55  \n",
       "3680                   29  \n",
       "3681                   54  \n",
       "3682                   52  \n",
       "\n",
       "[3683 rows x 16 columns]"
      ]
     },
     "execution_count": 61,
     "metadata": {},
     "output_type": "execute_result"
    }
   ],
   "source": [
    "df"
   ]
  },
  {
   "cell_type": "code",
   "execution_count": 62,
   "id": "cd3ece6e-3586-4533-b9ec-00b0e5d79f7b",
   "metadata": {},
   "outputs": [
    {
     "data": {
      "text/plain": [
       "0       2017-01-18T20:58:58Z\n",
       "1       2017-03-09T16:34:20Z\n",
       "2       2016-12-19T19:26:30Z\n",
       "3       2017-05-30T20:07:24Z\n",
       "4       2016-12-13T14:57:18Z\n",
       "                ...         \n",
       "3678    2016-06-14T17:36:46Z\n",
       "3679    2017-03-10T22:24:30Z\n",
       "3680    2015-12-30T16:41:42Z\n",
       "3681    2016-08-11T19:06:15Z\n",
       "3682    2014-09-28T19:51:11Z\n",
       "Name: published_timestamp, Length: 3683, dtype: object"
      ]
     },
     "execution_count": 62,
     "metadata": {},
     "output_type": "execute_result"
    }
   ],
   "source": [
    "df['published_timestamp']"
   ]
  },
  {
   "cell_type": "code",
   "execution_count": 63,
   "id": "f5aaf800-452c-4a59-af99-23b005ec35e0",
   "metadata": {},
   "outputs": [
    {
     "data": {
      "text/plain": [
       "0       [2017-01-18, 20:58:58Z]\n",
       "1       [2017-03-09, 16:34:20Z]\n",
       "2       [2016-12-19, 19:26:30Z]\n",
       "3       [2017-05-30, 20:07:24Z]\n",
       "4       [2016-12-13, 14:57:18Z]\n",
       "                 ...           \n",
       "3678    [2016-06-14, 17:36:46Z]\n",
       "3679    [2017-03-10, 22:24:30Z]\n",
       "3680    [2015-12-30, 16:41:42Z]\n",
       "3681    [2016-08-11, 19:06:15Z]\n",
       "3682    [2014-09-28, 19:51:11Z]\n",
       "Name: published_timestamp, Length: 3683, dtype: object"
      ]
     },
     "execution_count": 63,
     "metadata": {},
     "output_type": "execute_result"
    }
   ],
   "source": [
    "df['published_timestamp'].str.split('T')"
   ]
  },
  {
   "cell_type": "code",
   "execution_count": 64,
   "id": "84a06254-ae8d-43a4-8f1c-b240b9106c8f",
   "metadata": {},
   "outputs": [],
   "source": [
    "# the Date we need just year/month/day \n",
    "#Feature Engineer"
   ]
  },
  {
   "cell_type": "code",
   "execution_count": 65,
   "id": "39196d93-25b8-4ad9-95e7-19b2d1a68404",
   "metadata": {},
   "outputs": [],
   "source": [
    "df['Date']=df['published_timestamp'].str.split('T').str.get(0)"
   ]
  },
  {
   "cell_type": "code",
   "execution_count": 70,
   "id": "cc50737d-8321-4195-a1c7-bfe32341a3ed",
   "metadata": {},
   "outputs": [],
   "source": [
    "df['Date']=pd.to_datetime(df['Date'],format='%Y-%m-%d')"
   ]
  },
  {
   "cell_type": "code",
   "execution_count": 68,
   "id": "3b639a07-c5ce-4713-927a-2218b836fe34",
   "metadata": {},
   "outputs": [],
   "source": [
    "df['Date']=df['Date'].str.replace('3 hours','2017-01-12')"
   ]
  },
  {
   "cell_type": "code",
   "execution_count": 69,
   "id": "354745dd-71a1-416d-9e09-4bf900645861",
   "metadata": {},
   "outputs": [],
   "source": [
    "df['Date']=pd.to_datetime(df['Date'],format='%Y-%m-%d')"
   ]
  },
  {
   "cell_type": "code",
   "execution_count": 71,
   "id": "1bfb72c0-53b7-4c9d-8886-79343c3ba995",
   "metadata": {},
   "outputs": [
    {
     "name": "stdout",
     "output_type": "stream",
     "text": [
      "<class 'pandas.core.frame.DataFrame'>\n",
      "RangeIndex: 3683 entries, 0 to 3682\n",
      "Data columns (total 17 columns):\n",
      " #   Column               Non-Null Count  Dtype         \n",
      "---  ------               --------------  -----         \n",
      " 0   Unnamed: 0           3683 non-null   int64         \n",
      " 1   course_id            3683 non-null   int64         \n",
      " 2   course_title         3683 non-null   object        \n",
      " 3   url                  3683 non-null   object        \n",
      " 4   is_paid              3683 non-null   bool          \n",
      " 5   price                3683 non-null   float64       \n",
      " 6   num_subscribers      3683 non-null   int64         \n",
      " 7   num_reviews          3683 non-null   int64         \n",
      " 8   num_lectures         3683 non-null   int64         \n",
      " 9   level                3683 non-null   object        \n",
      " 10  content_duration     3683 non-null   object        \n",
      " 11  published_timestamp  3683 non-null   object        \n",
      " 12  subject              3683 non-null   object        \n",
      " 13  clean_course_title   3663 non-null   object        \n",
      " 14  profit               3683 non-null   float64       \n",
      " 15  course_title_length  3683 non-null   int64         \n",
      " 16  Date                 3683 non-null   datetime64[ns]\n",
      "dtypes: bool(1), datetime64[ns](1), float64(2), int64(6), object(7)\n",
      "memory usage: 464.1+ KB\n"
     ]
    }
   ],
   "source": [
    "df.info()"
   ]
  },
  {
   "cell_type": "code",
   "execution_count": 72,
   "id": "7777185f-534d-43ae-9701-3f296d75fd9f",
   "metadata": {},
   "outputs": [],
   "source": [
    "df['Year']=df['Date'].dt.year\n",
    "df['Month']=df['Date'].dt.month\n",
    "df['Day']=df['Date'].dt.day"
   ]
  },
  {
   "cell_type": "code",
   "execution_count": 73,
   "id": "b3601390-7a96-4285-883f-8abf940ced96",
   "metadata": {},
   "outputs": [
    {
     "data": {
      "text/html": [
       "<div>\n",
       "<style scoped>\n",
       "    .dataframe tbody tr th:only-of-type {\n",
       "        vertical-align: middle;\n",
       "    }\n",
       "\n",
       "    .dataframe tbody tr th {\n",
       "        vertical-align: top;\n",
       "    }\n",
       "\n",
       "    .dataframe thead th {\n",
       "        text-align: right;\n",
       "    }\n",
       "</style>\n",
       "<table border=\"1\" class=\"dataframe\">\n",
       "  <thead>\n",
       "    <tr style=\"text-align: right;\">\n",
       "      <th></th>\n",
       "      <th>Unnamed: 0</th>\n",
       "      <th>course_id</th>\n",
       "      <th>course_title</th>\n",
       "      <th>url</th>\n",
       "      <th>is_paid</th>\n",
       "      <th>price</th>\n",
       "      <th>num_subscribers</th>\n",
       "      <th>num_reviews</th>\n",
       "      <th>num_lectures</th>\n",
       "      <th>level</th>\n",
       "      <th>content_duration</th>\n",
       "      <th>published_timestamp</th>\n",
       "      <th>subject</th>\n",
       "      <th>clean_course_title</th>\n",
       "      <th>profit</th>\n",
       "      <th>course_title_length</th>\n",
       "      <th>Date</th>\n",
       "      <th>Year</th>\n",
       "      <th>Month</th>\n",
       "      <th>Day</th>\n",
       "    </tr>\n",
       "  </thead>\n",
       "  <tbody>\n",
       "    <tr>\n",
       "      <th>0</th>\n",
       "      <td>0</td>\n",
       "      <td>1070968</td>\n",
       "      <td>Ultimate Investment Banking Course</td>\n",
       "      <td>https://www.udemy.com/ultimate-investment-bank...</td>\n",
       "      <td>True</td>\n",
       "      <td>200.0</td>\n",
       "      <td>2147</td>\n",
       "      <td>23</td>\n",
       "      <td>51</td>\n",
       "      <td>All Levels</td>\n",
       "      <td>1.5 hours</td>\n",
       "      <td>2017-01-18T20:58:58Z</td>\n",
       "      <td>Business Finance</td>\n",
       "      <td>Ultimate Investment Banking Course</td>\n",
       "      <td>429400.0</td>\n",
       "      <td>34</td>\n",
       "      <td>2017-01-18</td>\n",
       "      <td>2017</td>\n",
       "      <td>1</td>\n",
       "      <td>18</td>\n",
       "    </tr>\n",
       "    <tr>\n",
       "      <th>1</th>\n",
       "      <td>1</td>\n",
       "      <td>1113822</td>\n",
       "      <td>Complete GST Course &amp; Certification - Grow You...</td>\n",
       "      <td>https://www.udemy.com/goods-and-services-tax/</td>\n",
       "      <td>True</td>\n",
       "      <td>75.0</td>\n",
       "      <td>2792</td>\n",
       "      <td>923</td>\n",
       "      <td>274</td>\n",
       "      <td>All Levels</td>\n",
       "      <td>39 hours</td>\n",
       "      <td>2017-03-09T16:34:20Z</td>\n",
       "      <td>Business Finance</td>\n",
       "      <td>Complete GST Course  Certification  Grow Practice</td>\n",
       "      <td>209400.0</td>\n",
       "      <td>59</td>\n",
       "      <td>2017-03-09</td>\n",
       "      <td>2017</td>\n",
       "      <td>3</td>\n",
       "      <td>9</td>\n",
       "    </tr>\n",
       "    <tr>\n",
       "      <th>2</th>\n",
       "      <td>2</td>\n",
       "      <td>1006314</td>\n",
       "      <td>Financial Modeling for Business Analysts and C...</td>\n",
       "      <td>https://www.udemy.com/financial-modeling-for-b...</td>\n",
       "      <td>True</td>\n",
       "      <td>45.0</td>\n",
       "      <td>2174</td>\n",
       "      <td>74</td>\n",
       "      <td>51</td>\n",
       "      <td>Intermediate Level</td>\n",
       "      <td>2.5 hours</td>\n",
       "      <td>2016-12-19T19:26:30Z</td>\n",
       "      <td>Business Finance</td>\n",
       "      <td>Financial Modeling Business Analysts Consultants</td>\n",
       "      <td>97830.0</td>\n",
       "      <td>56</td>\n",
       "      <td>2016-12-19</td>\n",
       "      <td>2016</td>\n",
       "      <td>12</td>\n",
       "      <td>19</td>\n",
       "    </tr>\n",
       "    <tr>\n",
       "      <th>3</th>\n",
       "      <td>3</td>\n",
       "      <td>1210588</td>\n",
       "      <td>Beginner to Pro - Financial Analysis in Excel ...</td>\n",
       "      <td>https://www.udemy.com/complete-excel-finance-c...</td>\n",
       "      <td>True</td>\n",
       "      <td>95.0</td>\n",
       "      <td>2451</td>\n",
       "      <td>11</td>\n",
       "      <td>36</td>\n",
       "      <td>All Levels</td>\n",
       "      <td>3 hours</td>\n",
       "      <td>2017-05-30T20:07:24Z</td>\n",
       "      <td>Business Finance</td>\n",
       "      <td>Beginner Pro  Financial Analysis Excel 2017</td>\n",
       "      <td>232845.0</td>\n",
       "      <td>50</td>\n",
       "      <td>2017-05-30</td>\n",
       "      <td>2017</td>\n",
       "      <td>5</td>\n",
       "      <td>30</td>\n",
       "    </tr>\n",
       "    <tr>\n",
       "      <th>4</th>\n",
       "      <td>4</td>\n",
       "      <td>1011058</td>\n",
       "      <td>How To Maximize Your Profits Trading Options</td>\n",
       "      <td>https://www.udemy.com/how-to-maximize-your-pro...</td>\n",
       "      <td>True</td>\n",
       "      <td>200.0</td>\n",
       "      <td>1276</td>\n",
       "      <td>45</td>\n",
       "      <td>26</td>\n",
       "      <td>Intermediate Level</td>\n",
       "      <td>2 hours</td>\n",
       "      <td>2016-12-13T14:57:18Z</td>\n",
       "      <td>Business Finance</td>\n",
       "      <td>Maximize Profits Trading Options</td>\n",
       "      <td>255200.0</td>\n",
       "      <td>44</td>\n",
       "      <td>2016-12-13</td>\n",
       "      <td>2016</td>\n",
       "      <td>12</td>\n",
       "      <td>13</td>\n",
       "    </tr>\n",
       "  </tbody>\n",
       "</table>\n",
       "</div>"
      ],
      "text/plain": [
       "   Unnamed: 0  course_id                                       course_title  \\\n",
       "0           0    1070968                 Ultimate Investment Banking Course   \n",
       "1           1    1113822  Complete GST Course & Certification - Grow You...   \n",
       "2           2    1006314  Financial Modeling for Business Analysts and C...   \n",
       "3           3    1210588  Beginner to Pro - Financial Analysis in Excel ...   \n",
       "4           4    1011058       How To Maximize Your Profits Trading Options   \n",
       "\n",
       "                                                 url  is_paid  price  \\\n",
       "0  https://www.udemy.com/ultimate-investment-bank...     True  200.0   \n",
       "1      https://www.udemy.com/goods-and-services-tax/     True   75.0   \n",
       "2  https://www.udemy.com/financial-modeling-for-b...     True   45.0   \n",
       "3  https://www.udemy.com/complete-excel-finance-c...     True   95.0   \n",
       "4  https://www.udemy.com/how-to-maximize-your-pro...     True  200.0   \n",
       "\n",
       "   num_subscribers  num_reviews  num_lectures               level  \\\n",
       "0             2147           23            51          All Levels   \n",
       "1             2792          923           274          All Levels   \n",
       "2             2174           74            51  Intermediate Level   \n",
       "3             2451           11            36          All Levels   \n",
       "4             1276           45            26  Intermediate Level   \n",
       "\n",
       "  content_duration   published_timestamp           subject  \\\n",
       "0        1.5 hours  2017-01-18T20:58:58Z  Business Finance   \n",
       "1         39 hours  2017-03-09T16:34:20Z  Business Finance   \n",
       "2        2.5 hours  2016-12-19T19:26:30Z  Business Finance   \n",
       "3          3 hours  2017-05-30T20:07:24Z  Business Finance   \n",
       "4          2 hours  2016-12-13T14:57:18Z  Business Finance   \n",
       "\n",
       "                                  clean_course_title    profit  \\\n",
       "0                 Ultimate Investment Banking Course  429400.0   \n",
       "1  Complete GST Course  Certification  Grow Practice  209400.0   \n",
       "2   Financial Modeling Business Analysts Consultants   97830.0   \n",
       "3        Beginner Pro  Financial Analysis Excel 2017  232845.0   \n",
       "4                   Maximize Profits Trading Options  255200.0   \n",
       "\n",
       "   course_title_length       Date  Year  Month  Day  \n",
       "0                   34 2017-01-18  2017      1   18  \n",
       "1                   59 2017-03-09  2017      3    9  \n",
       "2                   56 2016-12-19  2016     12   19  \n",
       "3                   50 2017-05-30  2017      5   30  \n",
       "4                   44 2016-12-13  2016     12   13  "
      ]
     },
     "execution_count": 73,
     "metadata": {},
     "output_type": "execute_result"
    }
   ],
   "source": [
    "df.head()"
   ]
  },
  {
   "cell_type": "code",
   "execution_count": 74,
   "id": "99adb4c6-c62c-4880-83d8-105ac00ac572",
   "metadata": {},
   "outputs": [
    {
     "data": {
      "text/plain": [
       "array([2017, 2016, 2014, 2015, 2013, 2012, 2011], dtype=int32)"
      ]
     },
     "execution_count": 74,
     "metadata": {},
     "output_type": "execute_result"
    }
   ],
   "source": [
    "df['Year'].unique()"
   ]
  },
  {
   "cell_type": "code",
   "execution_count": 75,
   "id": "24e1b0f4-59bc-4c5b-910d-92935e2b801b",
   "metadata": {},
   "outputs": [
    {
     "data": {
      "text/plain": [
       "Year\n",
       "2011     119028\n",
       "2012     555339\n",
       "2013    1723438\n",
       "2014    1930406\n",
       "2015    3475324\n",
       "2016    2966644\n",
       "2017     991007\n",
       "Name: num_subscribers, dtype: int64"
      ]
     },
     "execution_count": 75,
     "metadata": {},
     "output_type": "execute_result"
    }
   ],
   "source": [
    "df.groupby('Year')['num_subscribers'].sum()"
   ]
  },
  {
   "cell_type": "code",
   "execution_count": 76,
   "id": "421766a3-fda8-42f7-9be7-dcd17ff50086",
   "metadata": {},
   "outputs": [
    {
     "data": {
      "text/plain": [
       "<Axes: xlabel='Year'>"
      ]
     },
     "execution_count": 76,
     "metadata": {},
     "output_type": "execute_result"
    },
    {
     "data": {
      "image/png": "[encoded data removed]",
      "text/plain": [
       "<Figure size 640x480 with 1 Axes>"
      ]
     },
     "metadata": {},
     "output_type": "display_data"
    }
   ],
   "source": [
    "df.groupby('Year')['num_subscribers'].sum().plot(kind='bar')"
   ]
  },
  {
   "cell_type": "code",
   "execution_count": null,
   "id": "b7397f5c-6b52-43e6-bdf9-2f9bf4fbb4a2",
   "metadata": {},
   "outputs": [],
   "source": [
    "# 2015 Was the highest  with number of subscribers "
   ]
  },
  {
   "cell_type": "code",
   "execution_count": 77,
   "id": "a05c313e-abdb-4184-8528-fcbe7d5daccf",
   "metadata": {},
   "outputs": [
    {
     "data": {
      "text/plain": [
       "Month\n",
       "1      926571\n",
       "2     1171038\n",
       "3     1169973\n",
       "4     1098957\n",
       "5      758727\n",
       "6     1114457\n",
       "7      818371\n",
       "8      889368\n",
       "9      848214\n",
       "10    1197429\n",
       "11    1024601\n",
       "12     743480\n",
       "Name: num_subscribers, dtype: int64"
      ]
     },
     "execution_count": 77,
     "metadata": {},
     "output_type": "execute_result"
    }
   ],
   "source": [
    "df.groupby('Month')['num_subscribers'].sum()"
   ]
  },
  {
   "cell_type": "code",
   "execution_count": 78,
   "id": "70d39011-24f7-46ba-92da-525f8d20bf4f",
   "metadata": {},
   "outputs": [
    {
     "data": {
      "text/plain": [
       "<Axes: xlabel='Month'>"
      ]
     },
     "execution_count": 78,
     "metadata": {},
     "output_type": "execute_result"
    },
    {
     "data": {
      "image/png": "[encoded data removed]",
      "text/plain": [
       "<Figure size 640x480 with 1 Axes>"
      ]
     },
     "metadata": {},
     "output_type": "display_data"
    }
   ],
   "source": [
    "df.groupby('Month')['num_subscribers'].sum().plot(kind='bar')"
   ]
  },
  {
   "cell_type": "code",
   "execution_count": 79,
   "id": "8196aa21-433d-485a-ab5b-37aaadc0d89d",
   "metadata": {},
   "outputs": [
    {
     "name": "stderr",
     "output_type": "stream",
     "text": [
      "/var/folders/3f/lp5p1nqx46n2nww8ksnmbkw80000gp/T/ipykernel_89016/3207291512.py:2: FutureWarning: \n",
      "\n",
      "The `ci` parameter is deprecated. Use `errorbar=None` for the same effect.\n",
      "\n",
      "  sns.lineplot(x='Year',y='num_subscribers',data=df,hue='subject',ci=None)\n"
     ]
    },
    {
     "data": {
      "image/png": "[encoded data removed]",
      "text/plain": [
       "<Figure size 700x700 with 1 Axes>"
      ]
     },
     "metadata": {},
     "output_type": "display_data"
    }
   ],
   "source": [
    "plt.figure(figsize=(7,7))\n",
    "sns.lineplot(x='Year',y='num_subscribers',data=df,hue='subject',ci=None)\n",
    "plt.show()"
   ]
  },
  {
   "cell_type": "code",
   "execution_count": null,
   "id": "78907127-61e3-440d-aad5-e9794b13f13f",
   "metadata": {},
   "outputs": [],
   "source": []
  }
 ],
 "metadata": {
  "kernelspec": {
   "display_name": "Python 3 (ipykernel)",
   "language": "python",
   "name": "python3"
  },
  "language_info": {
   "codemirror_mode": {
    "name": "ipython",
    "version": 3
   },
   "file_extension": ".py",
   "mimetype": "text/x-python",
   "name": "python",
   "nbconvert_exporter": "python",
   "pygments_lexer": "ipython3",
   "version": "3.9.6"
  }
 },
 "nbformat": 4,
 "nbformat_minor": 5
}
